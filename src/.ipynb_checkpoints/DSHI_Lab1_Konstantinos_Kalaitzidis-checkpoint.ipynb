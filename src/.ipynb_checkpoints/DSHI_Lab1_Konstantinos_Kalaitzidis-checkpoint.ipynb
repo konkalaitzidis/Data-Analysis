{
 "cells": [
  {
   "cell_type": "markdown",
   "id": "9172abba-e059-4207-98ce-ed440ef60054",
   "metadata": {},
   "source": [
    "# Lab 1 - Data Analysis about Avocado Prices"
   ]
  },
  {
   "cell_type": "code",
   "execution_count": 9,
   "id": "87a856e0-443b-4146-8595-9cf9408c187f",
   "metadata": {},
   "outputs": [
    {
     "data": {
      "text/plain": [
       "'\\nstudent_name =   \"Konstantinos Kalaitzidis\"\\nstudent_id =     \"koka3307\"\\nstudent_email =  \"kon.kalaitzidis@gmail.com\"\\n'"
      ]
     },
     "execution_count": 9,
     "metadata": {},
     "output_type": "execute_result"
    }
   ],
   "source": [
    "'''\n",
    "student_name =   \"Konstantinos Kalaitzidis\"\n",
    "student_id =     \"koka3307\"\n",
    "student_email =  \"kon.kalaitzidis@gmail.com\"\n",
    "'''"
   ]
  },
  {
   "cell_type": "markdown",
   "id": "6ac63b4a-4218-40d2-a790-7447e8b5b629",
   "metadata": {},
   "source": [
    "  * a) What is the domain area of the dataset? Under which circumstances was it collected? For which kind of task or purpose was the dataset collected? The domain of the dataset is the food industry. This dataset has been retrieved from Kaggle (https://www.kaggle.com/datasets/neuromusic/avocado-prices?datasetId=30292&sortBy=voteCount). \n",
    "  * b) How many files does the dataset have? Which data format? Do the files have headers or another file describing the data? Are the data values separated by commas, semicolon, or tabs? Do you need to load and analyze all the files or just some of them contain valuable data?\n",
    "  This dataset contains 1 csv file. The file has a header that contains the labels of each column, and the values are separated by commas. The dataset is ready for analysis.\n",
    "  * c) How many features and how many observations does the dataset have?\n",
    "  Features: 14 columns. Observations: 18249 rows \n",
    "  * d) Does it contain numerical features? How many? What are the feature names? If it does not contain numerical features, please find a different dataset where you can conduct numerical analysis.\n",
    "  From the 14 columns, 11 contain numerical features. \n",
    "  * e) Does it contain categorical features? How many? What are the feature names?\n",
    "  There are two categorical features, “type” and “region”\n",
    "  * f) Does it contain binary features? How many? What are the feature names? If it does not contain, which relevant binary feature could you add to the dataset?\n",
    "  This dataset does not contain binary features. "
   ]
  },
  {
   "cell_type": "markdown",
   "id": "9656f8fd-e8a2-455f-9ed9-b632f3e98ed3",
   "metadata": {},
   "source": [
    "## Importing Packages and Libraries"
   ]
  },
  {
   "cell_type": "code",
   "execution_count": 10,
   "id": "67db3a7c-53cf-4ca8-901f-dc782d62d53f",
   "metadata": {},
   "outputs": [],
   "source": [
    "# Import the package with an alias\n",
    "import numpy as np\n",
    "import pandas as pd\n",
    "import matplotlib.pyplot as plt\n",
    "import seaborn as sns"
   ]
  },
  {
   "cell_type": "markdown",
   "id": "5ed8559c-bdb8-4424-9e72-490e5536ecec",
   "metadata": {},
   "source": [
    "## Loading and familiarizing ourselves with the dataset"
   ]
  },
  {
   "cell_type": "code",
   "execution_count": 11,
   "id": "06cfc7e7-d19d-44cb-a12b-f5011aac0d04",
   "metadata": {},
   "outputs": [],
   "source": [
    "df = pd.read_csv(\"avocado.csv\")"
   ]
  },
  {
   "cell_type": "code",
   "execution_count": 12,
   "id": "85bf667e-5be1-4a0d-8d5b-36057d812721",
   "metadata": {},
   "outputs": [
    {
     "data": {
      "text/plain": [
       "(18249, 14)"
      ]
     },
     "execution_count": 12,
     "metadata": {},
     "output_type": "execute_result"
    }
   ],
   "source": [
    "# What is the total size of the dataset?\n",
    "df.shape"
   ]
  },
  {
   "cell_type": "code",
   "execution_count": 13,
   "id": "104933c5-2206-4527-beb6-8e8dff334c75",
   "metadata": {},
   "outputs": [
    {
     "data": {
      "text/plain": [
       "Unnamed: 0        int64\n",
       "Date             object\n",
       "AveragePrice    float64\n",
       "Total Volume    float64\n",
       "4046            float64\n",
       "4225            float64\n",
       "4770            float64\n",
       "Total Bags      float64\n",
       "Small Bags      float64\n",
       "Large Bags      float64\n",
       "XLarge Bags     float64\n",
       "type             object\n",
       "year              int64\n",
       "region           object\n",
       "dtype: object"
      ]
     },
     "execution_count": 13,
     "metadata": {},
     "output_type": "execute_result"
    }
   ],
   "source": [
    "# Which are the variable types?\n",
    "df.dtypes"
   ]
  },
  {
   "cell_type": "code",
   "execution_count": 14,
   "id": "1a4b2734-cece-432e-9576-0d47bc07bfc0",
   "metadata": {},
   "outputs": [
    {
     "data": {
      "text/html": [
       "<div>\n",
       "<style scoped>\n",
       "    .dataframe tbody tr th:only-of-type {\n",
       "        vertical-align: middle;\n",
       "    }\n",
       "\n",
       "    .dataframe tbody tr th {\n",
       "        vertical-align: top;\n",
       "    }\n",
       "\n",
       "    .dataframe thead th {\n",
       "        text-align: right;\n",
       "    }\n",
       "</style>\n",
       "<table border=\"1\" class=\"dataframe\">\n",
       "  <thead>\n",
       "    <tr style=\"text-align: right;\">\n",
       "      <th></th>\n",
       "      <th>Unnamed: 0</th>\n",
       "      <th>Date</th>\n",
       "      <th>AveragePrice</th>\n",
       "      <th>Total Volume</th>\n",
       "      <th>4046</th>\n",
       "      <th>4225</th>\n",
       "      <th>4770</th>\n",
       "      <th>Total Bags</th>\n",
       "      <th>Small Bags</th>\n",
       "      <th>Large Bags</th>\n",
       "      <th>XLarge Bags</th>\n",
       "      <th>type</th>\n",
       "      <th>year</th>\n",
       "      <th>region</th>\n",
       "    </tr>\n",
       "  </thead>\n",
       "  <tbody>\n",
       "    <tr>\n",
       "      <th>0</th>\n",
       "      <td>0</td>\n",
       "      <td>2015-12-27</td>\n",
       "      <td>1.33</td>\n",
       "      <td>64236.62</td>\n",
       "      <td>1036.74</td>\n",
       "      <td>54454.85</td>\n",
       "      <td>48.16</td>\n",
       "      <td>8696.87</td>\n",
       "      <td>8603.62</td>\n",
       "      <td>93.25</td>\n",
       "      <td>0.0</td>\n",
       "      <td>conventional</td>\n",
       "      <td>2015</td>\n",
       "      <td>Albany</td>\n",
       "    </tr>\n",
       "    <tr>\n",
       "      <th>1</th>\n",
       "      <td>1</td>\n",
       "      <td>2015-12-20</td>\n",
       "      <td>1.35</td>\n",
       "      <td>54876.98</td>\n",
       "      <td>674.28</td>\n",
       "      <td>44638.81</td>\n",
       "      <td>58.33</td>\n",
       "      <td>9505.56</td>\n",
       "      <td>9408.07</td>\n",
       "      <td>97.49</td>\n",
       "      <td>0.0</td>\n",
       "      <td>conventional</td>\n",
       "      <td>2015</td>\n",
       "      <td>Albany</td>\n",
       "    </tr>\n",
       "    <tr>\n",
       "      <th>2</th>\n",
       "      <td>2</td>\n",
       "      <td>2015-12-13</td>\n",
       "      <td>0.93</td>\n",
       "      <td>118220.22</td>\n",
       "      <td>794.70</td>\n",
       "      <td>109149.67</td>\n",
       "      <td>130.50</td>\n",
       "      <td>8145.35</td>\n",
       "      <td>8042.21</td>\n",
       "      <td>103.14</td>\n",
       "      <td>0.0</td>\n",
       "      <td>conventional</td>\n",
       "      <td>2015</td>\n",
       "      <td>Albany</td>\n",
       "    </tr>\n",
       "  </tbody>\n",
       "</table>\n",
       "</div>"
      ],
      "text/plain": [
       "   Unnamed: 0        Date  AveragePrice  Total Volume     4046       4225  \\\n",
       "0           0  2015-12-27          1.33      64236.62  1036.74   54454.85   \n",
       "1           1  2015-12-20          1.35      54876.98   674.28   44638.81   \n",
       "2           2  2015-12-13          0.93     118220.22   794.70  109149.67   \n",
       "\n",
       "     4770  Total Bags  Small Bags  Large Bags  XLarge Bags          type  \\\n",
       "0   48.16     8696.87     8603.62       93.25          0.0  conventional   \n",
       "1   58.33     9505.56     9408.07       97.49          0.0  conventional   \n",
       "2  130.50     8145.35     8042.21      103.14          0.0  conventional   \n",
       "\n",
       "   year  region  \n",
       "0  2015  Albany  \n",
       "1  2015  Albany  \n",
       "2  2015  Albany  "
      ]
     },
     "execution_count": 14,
     "metadata": {},
     "output_type": "execute_result"
    }
   ],
   "source": [
    "df.head(3)"
   ]
  },
  {
   "cell_type": "code",
   "execution_count": 15,
   "id": "c34cac93-ae38-4611-a0cb-59da90afd9ba",
   "metadata": {},
   "outputs": [
    {
     "data": {
      "text/html": [
       "<div>\n",
       "<style scoped>\n",
       "    .dataframe tbody tr th:only-of-type {\n",
       "        vertical-align: middle;\n",
       "    }\n",
       "\n",
       "    .dataframe tbody tr th {\n",
       "        vertical-align: top;\n",
       "    }\n",
       "\n",
       "    .dataframe thead th {\n",
       "        text-align: right;\n",
       "    }\n",
       "</style>\n",
       "<table border=\"1\" class=\"dataframe\">\n",
       "  <thead>\n",
       "    <tr style=\"text-align: right;\">\n",
       "      <th></th>\n",
       "      <th>Unnamed: 0</th>\n",
       "      <th>Date</th>\n",
       "      <th>AveragePrice</th>\n",
       "      <th>Total Volume</th>\n",
       "      <th>4046</th>\n",
       "      <th>4225</th>\n",
       "      <th>4770</th>\n",
       "      <th>Total Bags</th>\n",
       "      <th>Small Bags</th>\n",
       "      <th>Large Bags</th>\n",
       "      <th>XLarge Bags</th>\n",
       "      <th>type</th>\n",
       "      <th>year</th>\n",
       "      <th>region</th>\n",
       "    </tr>\n",
       "  </thead>\n",
       "  <tbody>\n",
       "    <tr>\n",
       "      <th>10264</th>\n",
       "      <td>46</td>\n",
       "      <td>2015-02-08</td>\n",
       "      <td>1.68</td>\n",
       "      <td>7138.01</td>\n",
       "      <td>3705.92</td>\n",
       "      <td>2718.76</td>\n",
       "      <td>0.00</td>\n",
       "      <td>713.33</td>\n",
       "      <td>713.33</td>\n",
       "      <td>0.00</td>\n",
       "      <td>0.00</td>\n",
       "      <td>organic</td>\n",
       "      <td>2015</td>\n",
       "      <td>LasVegas</td>\n",
       "    </tr>\n",
       "    <tr>\n",
       "      <th>4287</th>\n",
       "      <td>23</td>\n",
       "      <td>2016-07-17</td>\n",
       "      <td>1.64</td>\n",
       "      <td>1076259.08</td>\n",
       "      <td>12881.29</td>\n",
       "      <td>611445.16</td>\n",
       "      <td>28823.32</td>\n",
       "      <td>423109.31</td>\n",
       "      <td>365760.49</td>\n",
       "      <td>50850.98</td>\n",
       "      <td>6497.84</td>\n",
       "      <td>conventional</td>\n",
       "      <td>2016</td>\n",
       "      <td>NewYork</td>\n",
       "    </tr>\n",
       "    <tr>\n",
       "      <th>7576</th>\n",
       "      <td>52</td>\n",
       "      <td>2017-01-01</td>\n",
       "      <td>0.73</td>\n",
       "      <td>869835.55</td>\n",
       "      <td>100273.33</td>\n",
       "      <td>269506.85</td>\n",
       "      <td>13235.82</td>\n",
       "      <td>486819.55</td>\n",
       "      <td>468972.79</td>\n",
       "      <td>17284.95</td>\n",
       "      <td>561.81</td>\n",
       "      <td>conventional</td>\n",
       "      <td>2017</td>\n",
       "      <td>Portland</td>\n",
       "    </tr>\n",
       "  </tbody>\n",
       "</table>\n",
       "</div>"
      ],
      "text/plain": [
       "       Unnamed: 0        Date  AveragePrice  Total Volume       4046  \\\n",
       "10264          46  2015-02-08          1.68       7138.01    3705.92   \n",
       "4287           23  2016-07-17          1.64    1076259.08   12881.29   \n",
       "7576           52  2017-01-01          0.73     869835.55  100273.33   \n",
       "\n",
       "            4225      4770  Total Bags  Small Bags  Large Bags  XLarge Bags  \\\n",
       "10264    2718.76      0.00      713.33      713.33        0.00         0.00   \n",
       "4287   611445.16  28823.32   423109.31   365760.49    50850.98      6497.84   \n",
       "7576   269506.85  13235.82   486819.55   468972.79    17284.95       561.81   \n",
       "\n",
       "               type  year    region  \n",
       "10264       organic  2015  LasVegas  \n",
       "4287   conventional  2016   NewYork  \n",
       "7576   conventional  2017  Portland  "
      ]
     },
     "execution_count": 15,
     "metadata": {},
     "output_type": "execute_result"
    }
   ],
   "source": [
    "df.sample(3)"
   ]
  },
  {
   "cell_type": "code",
   "execution_count": 16,
   "id": "76724bca-cdd4-4dc1-b765-1fe1c2f29b14",
   "metadata": {},
   "outputs": [
    {
     "data": {
      "text/html": [
       "<div>\n",
       "<style scoped>\n",
       "    .dataframe tbody tr th:only-of-type {\n",
       "        vertical-align: middle;\n",
       "    }\n",
       "\n",
       "    .dataframe tbody tr th {\n",
       "        vertical-align: top;\n",
       "    }\n",
       "\n",
       "    .dataframe thead th {\n",
       "        text-align: right;\n",
       "    }\n",
       "</style>\n",
       "<table border=\"1\" class=\"dataframe\">\n",
       "  <thead>\n",
       "    <tr style=\"text-align: right;\">\n",
       "      <th></th>\n",
       "      <th>Unnamed: 0</th>\n",
       "      <th>Date</th>\n",
       "      <th>AveragePrice</th>\n",
       "      <th>Total Volume</th>\n",
       "      <th>4046</th>\n",
       "      <th>4225</th>\n",
       "      <th>4770</th>\n",
       "      <th>Total Bags</th>\n",
       "      <th>Small Bags</th>\n",
       "      <th>Large Bags</th>\n",
       "      <th>XLarge Bags</th>\n",
       "      <th>type</th>\n",
       "      <th>year</th>\n",
       "      <th>region</th>\n",
       "    </tr>\n",
       "  </thead>\n",
       "  <tbody>\n",
       "    <tr>\n",
       "      <th>18246</th>\n",
       "      <td>9</td>\n",
       "      <td>2018-01-21</td>\n",
       "      <td>1.87</td>\n",
       "      <td>13766.76</td>\n",
       "      <td>1191.92</td>\n",
       "      <td>2452.79</td>\n",
       "      <td>727.94</td>\n",
       "      <td>9394.11</td>\n",
       "      <td>9351.80</td>\n",
       "      <td>42.31</td>\n",
       "      <td>0.0</td>\n",
       "      <td>organic</td>\n",
       "      <td>2018</td>\n",
       "      <td>WestTexNewMexico</td>\n",
       "    </tr>\n",
       "    <tr>\n",
       "      <th>18247</th>\n",
       "      <td>10</td>\n",
       "      <td>2018-01-14</td>\n",
       "      <td>1.93</td>\n",
       "      <td>16205.22</td>\n",
       "      <td>1527.63</td>\n",
       "      <td>2981.04</td>\n",
       "      <td>727.01</td>\n",
       "      <td>10969.54</td>\n",
       "      <td>10919.54</td>\n",
       "      <td>50.00</td>\n",
       "      <td>0.0</td>\n",
       "      <td>organic</td>\n",
       "      <td>2018</td>\n",
       "      <td>WestTexNewMexico</td>\n",
       "    </tr>\n",
       "    <tr>\n",
       "      <th>18248</th>\n",
       "      <td>11</td>\n",
       "      <td>2018-01-07</td>\n",
       "      <td>1.62</td>\n",
       "      <td>17489.58</td>\n",
       "      <td>2894.77</td>\n",
       "      <td>2356.13</td>\n",
       "      <td>224.53</td>\n",
       "      <td>12014.15</td>\n",
       "      <td>11988.14</td>\n",
       "      <td>26.01</td>\n",
       "      <td>0.0</td>\n",
       "      <td>organic</td>\n",
       "      <td>2018</td>\n",
       "      <td>WestTexNewMexico</td>\n",
       "    </tr>\n",
       "  </tbody>\n",
       "</table>\n",
       "</div>"
      ],
      "text/plain": [
       "       Unnamed: 0        Date  AveragePrice  Total Volume     4046     4225  \\\n",
       "18246           9  2018-01-21          1.87      13766.76  1191.92  2452.79   \n",
       "18247          10  2018-01-14          1.93      16205.22  1527.63  2981.04   \n",
       "18248          11  2018-01-07          1.62      17489.58  2894.77  2356.13   \n",
       "\n",
       "         4770  Total Bags  Small Bags  Large Bags  XLarge Bags     type  year  \\\n",
       "18246  727.94     9394.11     9351.80       42.31          0.0  organic  2018   \n",
       "18247  727.01    10969.54    10919.54       50.00          0.0  organic  2018   \n",
       "18248  224.53    12014.15    11988.14       26.01          0.0  organic  2018   \n",
       "\n",
       "                 region  \n",
       "18246  WestTexNewMexico  \n",
       "18247  WestTexNewMexico  \n",
       "18248  WestTexNewMexico  "
      ]
     },
     "execution_count": 16,
     "metadata": {},
     "output_type": "execute_result"
    }
   ],
   "source": [
    "df.tail(3)"
   ]
  },
  {
   "cell_type": "code",
   "execution_count": 17,
   "id": "2b857c48-1caa-49ad-86c3-e3cc98f59e44",
   "metadata": {},
   "outputs": [
    {
     "name": "stdout",
     "output_type": "stream",
     "text": [
      "<class 'pandas.core.frame.DataFrame'>\n",
      "RangeIndex: 18249 entries, 0 to 18248\n",
      "Data columns (total 14 columns):\n",
      " #   Column        Non-Null Count  Dtype  \n",
      "---  ------        --------------  -----  \n",
      " 0   Unnamed: 0    18249 non-null  int64  \n",
      " 1   Date          18249 non-null  object \n",
      " 2   AveragePrice  18249 non-null  float64\n",
      " 3   Total Volume  18249 non-null  float64\n",
      " 4   4046          18249 non-null  float64\n",
      " 5   4225          18249 non-null  float64\n",
      " 6   4770          18249 non-null  float64\n",
      " 7   Total Bags    18249 non-null  float64\n",
      " 8   Small Bags    18249 non-null  float64\n",
      " 9   Large Bags    18249 non-null  float64\n",
      " 10  XLarge Bags   18249 non-null  float64\n",
      " 11  type          18249 non-null  object \n",
      " 12  year          18249 non-null  int64  \n",
      " 13  region        18249 non-null  object \n",
      "dtypes: float64(9), int64(2), object(3)\n",
      "memory usage: 1.9+ MB\n"
     ]
    }
   ],
   "source": [
    "df.info()"
   ]
  },
  {
   "cell_type": "markdown",
   "id": "eace0540-1edc-4a5b-a1d7-7b8e6205cca5",
   "metadata": {},
   "source": [
    "# Data Preparation"
   ]
  },
  {
   "cell_type": "code",
   "execution_count": 18,
   "id": "61975e1e-0e9d-4a46-a625-942aed5925d1",
   "metadata": {},
   "outputs": [],
   "source": [
    "# Sort our dataframe by date order\n",
    "df = df.sort_values('Date')"
   ]
  },
  {
   "cell_type": "code",
   "execution_count": 19,
   "id": "e01ec58f-e766-4d14-8b20-8a40cd64e067",
   "metadata": {},
   "outputs": [
    {
     "data": {
      "text/html": [
       "<div>\n",
       "<style scoped>\n",
       "    .dataframe tbody tr th:only-of-type {\n",
       "        vertical-align: middle;\n",
       "    }\n",
       "\n",
       "    .dataframe tbody tr th {\n",
       "        vertical-align: top;\n",
       "    }\n",
       "\n",
       "    .dataframe thead th {\n",
       "        text-align: right;\n",
       "    }\n",
       "</style>\n",
       "<table border=\"1\" class=\"dataframe\">\n",
       "  <thead>\n",
       "    <tr style=\"text-align: right;\">\n",
       "      <th></th>\n",
       "      <th>Unnamed: 0</th>\n",
       "      <th>Date</th>\n",
       "      <th>AveragePrice</th>\n",
       "      <th>Total Volume</th>\n",
       "      <th>4046</th>\n",
       "      <th>4225</th>\n",
       "      <th>4770</th>\n",
       "      <th>Total Bags</th>\n",
       "      <th>Small Bags</th>\n",
       "      <th>Large Bags</th>\n",
       "      <th>XLarge Bags</th>\n",
       "      <th>type</th>\n",
       "      <th>year</th>\n",
       "      <th>region</th>\n",
       "    </tr>\n",
       "  </thead>\n",
       "  <tbody>\n",
       "    <tr>\n",
       "      <th>11569</th>\n",
       "      <td>51</td>\n",
       "      <td>2015-01-04</td>\n",
       "      <td>1.75</td>\n",
       "      <td>27365.89</td>\n",
       "      <td>9307.34</td>\n",
       "      <td>3844.81</td>\n",
       "      <td>615.28</td>\n",
       "      <td>13598.46</td>\n",
       "      <td>13061.10</td>\n",
       "      <td>537.36</td>\n",
       "      <td>0.0</td>\n",
       "      <td>organic</td>\n",
       "      <td>2015</td>\n",
       "      <td>Southeast</td>\n",
       "    </tr>\n",
       "    <tr>\n",
       "      <th>9593</th>\n",
       "      <td>51</td>\n",
       "      <td>2015-01-04</td>\n",
       "      <td>1.49</td>\n",
       "      <td>17723.17</td>\n",
       "      <td>1189.35</td>\n",
       "      <td>15628.27</td>\n",
       "      <td>0.00</td>\n",
       "      <td>905.55</td>\n",
       "      <td>905.55</td>\n",
       "      <td>0.00</td>\n",
       "      <td>0.0</td>\n",
       "      <td>organic</td>\n",
       "      <td>2015</td>\n",
       "      <td>Chicago</td>\n",
       "    </tr>\n",
       "    <tr>\n",
       "      <th>10009</th>\n",
       "      <td>51</td>\n",
       "      <td>2015-01-04</td>\n",
       "      <td>1.68</td>\n",
       "      <td>2896.72</td>\n",
       "      <td>161.68</td>\n",
       "      <td>206.96</td>\n",
       "      <td>0.00</td>\n",
       "      <td>2528.08</td>\n",
       "      <td>2528.08</td>\n",
       "      <td>0.00</td>\n",
       "      <td>0.0</td>\n",
       "      <td>organic</td>\n",
       "      <td>2015</td>\n",
       "      <td>HarrisburgScranton</td>\n",
       "    </tr>\n",
       "  </tbody>\n",
       "</table>\n",
       "</div>"
      ],
      "text/plain": [
       "       Unnamed: 0        Date  AveragePrice  Total Volume     4046      4225  \\\n",
       "11569          51  2015-01-04          1.75      27365.89  9307.34   3844.81   \n",
       "9593           51  2015-01-04          1.49      17723.17  1189.35  15628.27   \n",
       "10009          51  2015-01-04          1.68       2896.72   161.68    206.96   \n",
       "\n",
       "         4770  Total Bags  Small Bags  Large Bags  XLarge Bags     type  year  \\\n",
       "11569  615.28    13598.46    13061.10      537.36          0.0  organic  2015   \n",
       "9593     0.00      905.55      905.55        0.00          0.0  organic  2015   \n",
       "10009    0.00     2528.08     2528.08        0.00          0.0  organic  2015   \n",
       "\n",
       "                   region  \n",
       "11569           Southeast  \n",
       "9593              Chicago  \n",
       "10009  HarrisburgScranton  "
      ]
     },
     "execution_count": 19,
     "metadata": {},
     "output_type": "execute_result"
    }
   ],
   "source": [
    "df.head(3)"
   ]
  },
  {
   "cell_type": "code",
   "execution_count": 20,
   "id": "996174ca-dff6-4280-a7db-79dd443ca7d2",
   "metadata": {},
   "outputs": [
    {
     "data": {
      "text/html": [
       "<div>\n",
       "<style scoped>\n",
       "    .dataframe tbody tr th:only-of-type {\n",
       "        vertical-align: middle;\n",
       "    }\n",
       "\n",
       "    .dataframe tbody tr th {\n",
       "        vertical-align: top;\n",
       "    }\n",
       "\n",
       "    .dataframe thead th {\n",
       "        text-align: right;\n",
       "    }\n",
       "</style>\n",
       "<table border=\"1\" class=\"dataframe\">\n",
       "  <thead>\n",
       "    <tr style=\"text-align: right;\">\n",
       "      <th></th>\n",
       "      <th>Date</th>\n",
       "      <th>AveragePrice</th>\n",
       "      <th>type</th>\n",
       "      <th>year</th>\n",
       "      <th>region</th>\n",
       "    </tr>\n",
       "  </thead>\n",
       "  <tbody>\n",
       "    <tr>\n",
       "      <th>11569</th>\n",
       "      <td>2015-01-04</td>\n",
       "      <td>1.75</td>\n",
       "      <td>organic</td>\n",
       "      <td>2015</td>\n",
       "      <td>Southeast</td>\n",
       "    </tr>\n",
       "    <tr>\n",
       "      <th>9593</th>\n",
       "      <td>2015-01-04</td>\n",
       "      <td>1.49</td>\n",
       "      <td>organic</td>\n",
       "      <td>2015</td>\n",
       "      <td>Chicago</td>\n",
       "    </tr>\n",
       "    <tr>\n",
       "      <th>10009</th>\n",
       "      <td>2015-01-04</td>\n",
       "      <td>1.68</td>\n",
       "      <td>organic</td>\n",
       "      <td>2015</td>\n",
       "      <td>HarrisburgScranton</td>\n",
       "    </tr>\n",
       "    <tr>\n",
       "      <th>1819</th>\n",
       "      <td>2015-01-04</td>\n",
       "      <td>1.52</td>\n",
       "      <td>conventional</td>\n",
       "      <td>2015</td>\n",
       "      <td>Pittsburgh</td>\n",
       "    </tr>\n",
       "    <tr>\n",
       "      <th>9333</th>\n",
       "      <td>2015-01-04</td>\n",
       "      <td>1.64</td>\n",
       "      <td>organic</td>\n",
       "      <td>2015</td>\n",
       "      <td>Boise</td>\n",
       "    </tr>\n",
       "    <tr>\n",
       "      <th>...</th>\n",
       "      <td>...</td>\n",
       "      <td>...</td>\n",
       "      <td>...</td>\n",
       "      <td>...</td>\n",
       "      <td>...</td>\n",
       "    </tr>\n",
       "    <tr>\n",
       "      <th>8574</th>\n",
       "      <td>2018-03-25</td>\n",
       "      <td>1.36</td>\n",
       "      <td>conventional</td>\n",
       "      <td>2018</td>\n",
       "      <td>Chicago</td>\n",
       "    </tr>\n",
       "    <tr>\n",
       "      <th>9018</th>\n",
       "      <td>2018-03-25</td>\n",
       "      <td>0.70</td>\n",
       "      <td>conventional</td>\n",
       "      <td>2018</td>\n",
       "      <td>SouthCentral</td>\n",
       "    </tr>\n",
       "    <tr>\n",
       "      <th>18141</th>\n",
       "      <td>2018-03-25</td>\n",
       "      <td>1.42</td>\n",
       "      <td>organic</td>\n",
       "      <td>2018</td>\n",
       "      <td>SouthCentral</td>\n",
       "    </tr>\n",
       "    <tr>\n",
       "      <th>17673</th>\n",
       "      <td>2018-03-25</td>\n",
       "      <td>1.70</td>\n",
       "      <td>organic</td>\n",
       "      <td>2018</td>\n",
       "      <td>California</td>\n",
       "    </tr>\n",
       "    <tr>\n",
       "      <th>8814</th>\n",
       "      <td>2018-03-25</td>\n",
       "      <td>1.34</td>\n",
       "      <td>conventional</td>\n",
       "      <td>2018</td>\n",
       "      <td>NewYork</td>\n",
       "    </tr>\n",
       "  </tbody>\n",
       "</table>\n",
       "<p>18249 rows × 5 columns</p>\n",
       "</div>"
      ],
      "text/plain": [
       "             Date  AveragePrice          type  year              region\n",
       "11569  2015-01-04          1.75       organic  2015           Southeast\n",
       "9593   2015-01-04          1.49       organic  2015             Chicago\n",
       "10009  2015-01-04          1.68       organic  2015  HarrisburgScranton\n",
       "1819   2015-01-04          1.52  conventional  2015          Pittsburgh\n",
       "9333   2015-01-04          1.64       organic  2015               Boise\n",
       "...           ...           ...           ...   ...                 ...\n",
       "8574   2018-03-25          1.36  conventional  2018             Chicago\n",
       "9018   2018-03-25          0.70  conventional  2018        SouthCentral\n",
       "18141  2018-03-25          1.42       organic  2018        SouthCentral\n",
       "17673  2018-03-25          1.70       organic  2018          California\n",
       "8814   2018-03-25          1.34  conventional  2018             NewYork\n",
       "\n",
       "[18249 rows x 5 columns]"
      ]
     },
     "execution_count": 20,
     "metadata": {},
     "output_type": "execute_result"
    }
   ],
   "source": [
    "# We want to see how the prices ranges over time on the organic avocado products of all regions.\n",
    "\n",
    "# Deleting irrelevant features\n",
    "columns_to_delete = [\"Unnamed: 0\",\"Total Volume\", \"4046\", \"4225\", \"4770\", \"Total Bags\", \"Small Bags\", \"Large Bags\", \"XLarge Bags\"]\n",
    "# axis=1 means that the operation is executed in the columns, axis=0 is in the rows\n",
    "df2 = df.drop(columns_to_delete, axis=1)    \n",
    "df2"
   ]
  },
  {
   "cell_type": "code",
   "execution_count": 21,
   "id": "2b73dd64-ff48-40b7-ad56-019f7125a284",
   "metadata": {},
   "outputs": [
    {
     "data": {
      "text/plain": [
       "Index(['Date', 'AveragePrice', 'type', 'year', 'region'], dtype='object')"
      ]
     },
     "execution_count": 21,
     "metadata": {},
     "output_type": "execute_result"
    }
   ],
   "source": [
    "df2.columns"
   ]
  },
  {
   "cell_type": "code",
   "execution_count": 22,
   "id": "6fbbfc72-7950-43ff-bad8-802603c6120e",
   "metadata": {},
   "outputs": [
    {
     "data": {
      "text/html": [
       "<div>\n",
       "<style scoped>\n",
       "    .dataframe tbody tr th:only-of-type {\n",
       "        vertical-align: middle;\n",
       "    }\n",
       "\n",
       "    .dataframe tbody tr th {\n",
       "        vertical-align: top;\n",
       "    }\n",
       "\n",
       "    .dataframe thead th {\n",
       "        text-align: right;\n",
       "    }\n",
       "</style>\n",
       "<table border=\"1\" class=\"dataframe\">\n",
       "  <thead>\n",
       "    <tr style=\"text-align: right;\">\n",
       "      <th></th>\n",
       "      <th>Date</th>\n",
       "      <th>AveragePrice</th>\n",
       "      <th>type</th>\n",
       "      <th>year</th>\n",
       "      <th>region</th>\n",
       "    </tr>\n",
       "  </thead>\n",
       "  <tbody>\n",
       "    <tr>\n",
       "      <th>11569</th>\n",
       "      <td>2015-01-04</td>\n",
       "      <td>1.75</td>\n",
       "      <td>organic</td>\n",
       "      <td>2015</td>\n",
       "      <td>Southeast</td>\n",
       "    </tr>\n",
       "    <tr>\n",
       "      <th>9593</th>\n",
       "      <td>2015-01-04</td>\n",
       "      <td>1.49</td>\n",
       "      <td>organic</td>\n",
       "      <td>2015</td>\n",
       "      <td>Chicago</td>\n",
       "    </tr>\n",
       "    <tr>\n",
       "      <th>10009</th>\n",
       "      <td>2015-01-04</td>\n",
       "      <td>1.68</td>\n",
       "      <td>organic</td>\n",
       "      <td>2015</td>\n",
       "      <td>HarrisburgScranton</td>\n",
       "    </tr>\n",
       "  </tbody>\n",
       "</table>\n",
       "</div>"
      ],
      "text/plain": [
       "             Date  AveragePrice     type  year              region\n",
       "11569  2015-01-04          1.75  organic  2015           Southeast\n",
       "9593   2015-01-04          1.49  organic  2015             Chicago\n",
       "10009  2015-01-04          1.68  organic  2015  HarrisburgScranton"
      ]
     },
     "execution_count": 22,
     "metadata": {},
     "output_type": "execute_result"
    }
   ],
   "source": [
    "df2 = df2[df2[\"type\"]==\"organic\"]\n",
    "df2.head(3)"
   ]
  },
  {
   "cell_type": "code",
   "execution_count": 23,
   "id": "6709f01a-917f-4f2f-9b74-7433139ee701",
   "metadata": {},
   "outputs": [
    {
     "data": {
      "text/plain": [
       "(9123, 5)"
      ]
     },
     "execution_count": 23,
     "metadata": {},
     "output_type": "execute_result"
    }
   ],
   "source": [
    "df2.shape"
   ]
  },
  {
   "cell_type": "markdown",
   "id": "0f70e09c-b1c3-4193-9f04-4ee54f659cc3",
   "metadata": {},
   "source": [
    "# Store processed data"
   ]
  },
  {
   "cell_type": "code",
   "execution_count": 24,
   "id": "591c7d1a-dd91-46d2-8683-8c158364e123",
   "metadata": {},
   "outputs": [
    {
     "data": {
      "text/plain": [
       "'./data'"
      ]
     },
     "execution_count": 24,
     "metadata": {},
     "output_type": "execute_result"
    }
   ],
   "source": [
    "import os\n",
    "\n",
    "this_path = \".\"\n",
    "folder_name = \"data\"\n",
    "data_folder = os.path.join(this_path, folder_name)\n",
    "os.makedirs(data_folder, exist_ok=True) # Check if the folder exists\n",
    "data_folder"
   ]
  },
  {
   "cell_type": "code",
   "execution_count": 25,
   "id": "93223ba9-b59f-4f37-9082-8f0ae10367c8",
   "metadata": {},
   "outputs": [
    {
     "data": {
      "text/plain": [
       "'./data/avocado_processed.csv'"
      ]
     },
     "execution_count": 25,
     "metadata": {},
     "output_type": "execute_result"
    }
   ],
   "source": [
    "file_name = \"avocado_processed.csv\"\n",
    "filepath = os.path.join(data_folder, file_name)\n",
    "filepath"
   ]
  },
  {
   "cell_type": "code",
   "execution_count": 26,
   "id": "a9237383-38d5-4be6-8303-0447e6538265",
   "metadata": {},
   "outputs": [],
   "source": [
    "df2.to_csv(filepath, index=False)"
   ]
  },
  {
   "cell_type": "markdown",
   "id": "f38f0d1d-b7c3-4162-97ba-9d78af976012",
   "metadata": {},
   "source": [
    "# Exploratory Data Analysis (EDA)"
   ]
  },
  {
   "cell_type": "code",
   "execution_count": 27,
   "id": "f78141c3-d15a-4233-bc2f-555a30d55848",
   "metadata": {},
   "outputs": [
    {
     "data": {
      "text/html": [
       "<div>\n",
       "<style scoped>\n",
       "    .dataframe tbody tr th:only-of-type {\n",
       "        vertical-align: middle;\n",
       "    }\n",
       "\n",
       "    .dataframe tbody tr th {\n",
       "        vertical-align: top;\n",
       "    }\n",
       "\n",
       "    .dataframe thead th {\n",
       "        text-align: right;\n",
       "    }\n",
       "</style>\n",
       "<table border=\"1\" class=\"dataframe\">\n",
       "  <thead>\n",
       "    <tr style=\"text-align: right;\">\n",
       "      <th></th>\n",
       "      <th>Date</th>\n",
       "      <th>AveragePrice</th>\n",
       "      <th>type</th>\n",
       "      <th>year</th>\n",
       "      <th>region</th>\n",
       "    </tr>\n",
       "  </thead>\n",
       "  <tbody>\n",
       "    <tr>\n",
       "      <th>0</th>\n",
       "      <td>2015-01-04</td>\n",
       "      <td>1.75</td>\n",
       "      <td>organic</td>\n",
       "      <td>2015</td>\n",
       "      <td>Southeast</td>\n",
       "    </tr>\n",
       "    <tr>\n",
       "      <th>1</th>\n",
       "      <td>2015-01-04</td>\n",
       "      <td>1.49</td>\n",
       "      <td>organic</td>\n",
       "      <td>2015</td>\n",
       "      <td>Chicago</td>\n",
       "    </tr>\n",
       "    <tr>\n",
       "      <th>2</th>\n",
       "      <td>2015-01-04</td>\n",
       "      <td>1.68</td>\n",
       "      <td>organic</td>\n",
       "      <td>2015</td>\n",
       "      <td>HarrisburgScranton</td>\n",
       "    </tr>\n",
       "  </tbody>\n",
       "</table>\n",
       "</div>"
      ],
      "text/plain": [
       "         Date  AveragePrice     type  year              region\n",
       "0  2015-01-04          1.75  organic  2015           Southeast\n",
       "1  2015-01-04          1.49  organic  2015             Chicago\n",
       "2  2015-01-04          1.68  organic  2015  HarrisburgScranton"
      ]
     },
     "execution_count": 27,
     "metadata": {},
     "output_type": "execute_result"
    }
   ],
   "source": [
    "data = pd.read_csv(\"./data/avocado_processed.csv\")\n",
    "data.head(3)"
   ]
  },
  {
   "cell_type": "code",
   "execution_count": 28,
   "id": "5364e052-ea44-4906-b98d-3b2dcc9475d8",
   "metadata": {},
   "outputs": [
    {
     "data": {
      "text/plain": [
       "Date             object\n",
       "AveragePrice    float64\n",
       "type             object\n",
       "year              int64\n",
       "region           object\n",
       "dtype: object"
      ]
     },
     "execution_count": 28,
     "metadata": {},
     "output_type": "execute_result"
    }
   ],
   "source": [
    "data.dtypes"
   ]
  },
  {
   "cell_type": "code",
   "execution_count": 29,
   "id": "abc13a72-7905-4bea-8c7e-4353b6a100fc",
   "metadata": {},
   "outputs": [
    {
     "data": {
      "text/plain": [
       "Date              object\n",
       "AveragePrice     float64\n",
       "type            category\n",
       "year               int64\n",
       "region            object\n",
       "dtype: object"
      ]
     },
     "execution_count": 29,
     "metadata": {},
     "output_type": "execute_result"
    }
   ],
   "source": [
    "data[\"type\"] = data[\"type\"].astype(\"category\")\n",
    "data.dtypes"
   ]
  },
  {
   "cell_type": "code",
   "execution_count": 30,
   "id": "aaa97c5e-0433-46aa-9816-5679556a2be8",
   "metadata": {},
   "outputs": [
    {
     "data": {
      "text/plain": [
       "Date              object\n",
       "AveragePrice     float64\n",
       "type            category\n",
       "year               int64\n",
       "region          category\n",
       "dtype: object"
      ]
     },
     "execution_count": 30,
     "metadata": {},
     "output_type": "execute_result"
    }
   ],
   "source": [
    "data[\"region\"] = data[\"region\"].astype(\"category\")\n",
    "data.dtypes"
   ]
  },
  {
   "cell_type": "code",
   "execution_count": 31,
   "id": "dec69906-336f-4e69-8800-a449088d1958",
   "metadata": {},
   "outputs": [
    {
     "data": {
      "text/html": [
       "<div>\n",
       "<style scoped>\n",
       "    .dataframe tbody tr th:only-of-type {\n",
       "        vertical-align: middle;\n",
       "    }\n",
       "\n",
       "    .dataframe tbody tr th {\n",
       "        vertical-align: top;\n",
       "    }\n",
       "\n",
       "    .dataframe thead th {\n",
       "        text-align: right;\n",
       "    }\n",
       "</style>\n",
       "<table border=\"1\" class=\"dataframe\">\n",
       "  <thead>\n",
       "    <tr style=\"text-align: right;\">\n",
       "      <th></th>\n",
       "      <th>Date</th>\n",
       "      <th>AveragePrice</th>\n",
       "      <th>type</th>\n",
       "      <th>year</th>\n",
       "      <th>region</th>\n",
       "    </tr>\n",
       "  </thead>\n",
       "  <tbody>\n",
       "    <tr>\n",
       "      <th>5016</th>\n",
       "      <td>2016-10-09</td>\n",
       "      <td>1.52</td>\n",
       "      <td>organic</td>\n",
       "      <td>2016</td>\n",
       "      <td>TotalUS</td>\n",
       "    </tr>\n",
       "    <tr>\n",
       "      <th>3479</th>\n",
       "      <td>2016-03-27</td>\n",
       "      <td>1.25</td>\n",
       "      <td>organic</td>\n",
       "      <td>2016</td>\n",
       "      <td>SouthCentral</td>\n",
       "    </tr>\n",
       "    <tr>\n",
       "      <th>1552</th>\n",
       "      <td>2015-07-19</td>\n",
       "      <td>1.91</td>\n",
       "      <td>organic</td>\n",
       "      <td>2015</td>\n",
       "      <td>BuffaloRochester</td>\n",
       "    </tr>\n",
       "  </tbody>\n",
       "</table>\n",
       "</div>"
      ],
      "text/plain": [
       "            Date  AveragePrice     type  year            region\n",
       "5016  2016-10-09          1.52  organic  2016           TotalUS\n",
       "3479  2016-03-27          1.25  organic  2016      SouthCentral\n",
       "1552  2015-07-19          1.91  organic  2015  BuffaloRochester"
      ]
     },
     "execution_count": 31,
     "metadata": {},
     "output_type": "execute_result"
    }
   ],
   "source": [
    "# Show three random samples of the data\n",
    "data.sample(3)"
   ]
  },
  {
   "cell_type": "markdown",
   "id": "10f7c1ce-bf3f-40f6-8be8-8bc6028986c3",
   "metadata": {},
   "source": [
    "## Understanding the data numerically"
   ]
  },
  {
   "cell_type": "code",
   "execution_count": 32,
   "id": "7b7222e8-0e05-478f-9eb5-aba3090c547b",
   "metadata": {},
   "outputs": [
    {
     "data": {
      "text/html": [
       "<div>\n",
       "<style scoped>\n",
       "    .dataframe tbody tr th:only-of-type {\n",
       "        vertical-align: middle;\n",
       "    }\n",
       "\n",
       "    .dataframe tbody tr th {\n",
       "        vertical-align: top;\n",
       "    }\n",
       "\n",
       "    .dataframe thead th {\n",
       "        text-align: right;\n",
       "    }\n",
       "</style>\n",
       "<table border=\"1\" class=\"dataframe\">\n",
       "  <thead>\n",
       "    <tr style=\"text-align: right;\">\n",
       "      <th></th>\n",
       "      <th>AveragePrice</th>\n",
       "      <th>year</th>\n",
       "    </tr>\n",
       "  </thead>\n",
       "  <tbody>\n",
       "    <tr>\n",
       "      <th>count</th>\n",
       "      <td>9123.000000</td>\n",
       "      <td>9123.000000</td>\n",
       "    </tr>\n",
       "    <tr>\n",
       "      <th>mean</th>\n",
       "      <td>1.653999</td>\n",
       "      <td>2016.147868</td>\n",
       "    </tr>\n",
       "    <tr>\n",
       "      <th>std</th>\n",
       "      <td>0.363502</td>\n",
       "      <td>0.939961</td>\n",
       "    </tr>\n",
       "    <tr>\n",
       "      <th>min</th>\n",
       "      <td>0.440000</td>\n",
       "      <td>2015.000000</td>\n",
       "    </tr>\n",
       "    <tr>\n",
       "      <th>25%</th>\n",
       "      <td>1.420000</td>\n",
       "      <td>2015.000000</td>\n",
       "    </tr>\n",
       "    <tr>\n",
       "      <th>50%</th>\n",
       "      <td>1.630000</td>\n",
       "      <td>2016.000000</td>\n",
       "    </tr>\n",
       "    <tr>\n",
       "      <th>75%</th>\n",
       "      <td>1.870000</td>\n",
       "      <td>2017.000000</td>\n",
       "    </tr>\n",
       "    <tr>\n",
       "      <th>max</th>\n",
       "      <td>3.250000</td>\n",
       "      <td>2018.000000</td>\n",
       "    </tr>\n",
       "  </tbody>\n",
       "</table>\n",
       "</div>"
      ],
      "text/plain": [
       "       AveragePrice         year\n",
       "count   9123.000000  9123.000000\n",
       "mean       1.653999  2016.147868\n",
       "std        0.363502     0.939961\n",
       "min        0.440000  2015.000000\n",
       "25%        1.420000  2015.000000\n",
       "50%        1.630000  2016.000000\n",
       "75%        1.870000  2017.000000\n",
       "max        3.250000  2018.000000"
      ]
     },
     "execution_count": 32,
     "metadata": {},
     "output_type": "execute_result"
    }
   ],
   "source": [
    "data.describe()"
   ]
  },
  {
   "cell_type": "markdown",
   "id": "4c573d04-83df-45aa-bcf1-5c58a4443bf2",
   "metadata": {},
   "source": [
    "### Missing values"
   ]
  },
  {
   "cell_type": "code",
   "execution_count": 33,
   "id": "7e194673-07db-49e1-afdf-8159fa94ef8c",
   "metadata": {},
   "outputs": [
    {
     "data": {
      "text/plain": [
       "Date            0\n",
       "AveragePrice    0\n",
       "type            0\n",
       "year            0\n",
       "region          0\n",
       "dtype: int64"
      ]
     },
     "execution_count": 33,
     "metadata": {},
     "output_type": "execute_result"
    }
   ],
   "source": [
    "data.isnull().sum()"
   ]
  },
  {
   "cell_type": "markdown",
   "id": "c4a94d62-e93e-4860-a957-ac17700e0c80",
   "metadata": {},
   "source": [
    "### Answering simple questions with data"
   ]
  },
  {
   "cell_type": "code",
   "execution_count": 34,
   "id": "741fa1ea-a500-4150-a653-428bf6a8086b",
   "metadata": {},
   "outputs": [
    {
     "data": {
      "text/plain": [
       "8483             California\n",
       "8484                 Boston\n",
       "8494             Sacramento\n",
       "8495               SanDiego\n",
       "8496           SanFrancisco\n",
       "8511    HartfordSpringfield\n",
       "8527                NewYork\n",
       "8545                StLouis\n",
       "8550                Seattle\n",
       "8581               LasVegas\n",
       "8582       WestTexNewMexico\n",
       "8653      RaleighGreensboro\n",
       "8671           Jacksonville\n",
       "8740              Charlotte\n",
       "8843             LosAngeles\n",
       "Name: region, dtype: category\n",
       "Categories (54, object): ['Albany', 'Atlanta', 'BaltimoreWashington', 'Boise', ..., 'Tampa', 'TotalUS', 'West', 'WestTexNewMexico']"
      ]
     },
     "execution_count": 34,
     "metadata": {},
     "output_type": "execute_result"
    }
   ],
   "source": [
    "# Question 1: Show the regions with an average price of organic avocado of 75% of the max price or more in the year 2018. \n",
    "df_q1 = data[ (data[\"AveragePrice\"]>1.86) & (data[\"year\"]==2018)]\n",
    "df_q1[\"region\"].drop_duplicates()"
   ]
  },
  {
   "cell_type": "code",
   "execution_count": 35,
   "id": "181bd9ca-7b53-4607-856c-6aea66407c1d",
   "metadata": {},
   "outputs": [],
   "source": [
    "# result shows all regions where the average price of organic avocado is equal to or more than 75% of the max price. "
   ]
  },
  {
   "cell_type": "code",
   "execution_count": 36,
   "id": "46229b6f-12f3-4dd2-a4f9-dd7124720801",
   "metadata": {},
   "outputs": [
    {
     "name": "stderr",
     "output_type": "stream",
     "text": [
      "/var/folders/xj/qm67gxf118j1hry5jjcn94540000gn/T/ipykernel_53839/3032813874.py:2: FutureWarning: Indexing with multiple keys (implicitly converted to a tuple of keys) will be deprecated, use a list instead.\n",
      "  df_q2 = data.groupby(by=[\"region\"])[\"AveragePrice\", \"region\"].mean()\n"
     ]
    },
    {
     "data": {
      "text/html": [
       "<div>\n",
       "<style scoped>\n",
       "    .dataframe tbody tr th:only-of-type {\n",
       "        vertical-align: middle;\n",
       "    }\n",
       "\n",
       "    .dataframe tbody tr th {\n",
       "        vertical-align: top;\n",
       "    }\n",
       "\n",
       "    .dataframe thead th {\n",
       "        text-align: right;\n",
       "    }\n",
       "</style>\n",
       "<table border=\"1\" class=\"dataframe\">\n",
       "  <thead>\n",
       "    <tr style=\"text-align: right;\">\n",
       "      <th></th>\n",
       "      <th>AveragePrice</th>\n",
       "    </tr>\n",
       "    <tr>\n",
       "      <th>region</th>\n",
       "      <th></th>\n",
       "    </tr>\n",
       "  </thead>\n",
       "  <tbody>\n",
       "    <tr>\n",
       "      <th>Albany</th>\n",
       "      <td>1.773314</td>\n",
       "    </tr>\n",
       "    <tr>\n",
       "      <th>Atlanta</th>\n",
       "      <td>1.607101</td>\n",
       "    </tr>\n",
       "    <tr>\n",
       "      <th>BaltimoreWashington</th>\n",
       "      <td>1.724260</td>\n",
       "    </tr>\n",
       "    <tr>\n",
       "      <th>Boise</th>\n",
       "      <td>1.620237</td>\n",
       "    </tr>\n",
       "    <tr>\n",
       "      <th>Boston</th>\n",
       "      <td>1.757396</td>\n",
       "    </tr>\n",
       "    <tr>\n",
       "      <th>BuffaloRochester</th>\n",
       "      <td>1.651361</td>\n",
       "    </tr>\n",
       "    <tr>\n",
       "      <th>California</th>\n",
       "      <td>1.685207</td>\n",
       "    </tr>\n",
       "    <tr>\n",
       "      <th>Charlotte</th>\n",
       "      <td>1.936982</td>\n",
       "    </tr>\n",
       "    <tr>\n",
       "      <th>Chicago</th>\n",
       "      <td>1.744201</td>\n",
       "    </tr>\n",
       "    <tr>\n",
       "      <th>CincinnatiDayton</th>\n",
       "      <td>1.402899</td>\n",
       "    </tr>\n",
       "    <tr>\n",
       "      <th>Columbus</th>\n",
       "      <td>1.439290</td>\n",
       "    </tr>\n",
       "    <tr>\n",
       "      <th>DallasFtWorth</th>\n",
       "      <td>1.324734</td>\n",
       "    </tr>\n",
       "    <tr>\n",
       "      <th>Denver</th>\n",
       "      <td>1.363195</td>\n",
       "    </tr>\n",
       "    <tr>\n",
       "      <th>Detroit</th>\n",
       "      <td>1.428225</td>\n",
       "    </tr>\n",
       "    <tr>\n",
       "      <th>GrandRapids</th>\n",
       "      <td>1.684970</td>\n",
       "    </tr>\n",
       "    <tr>\n",
       "      <th>GreatLakes</th>\n",
       "      <td>1.495207</td>\n",
       "    </tr>\n",
       "    <tr>\n",
       "      <th>HarrisburgScranton</th>\n",
       "      <td>1.767751</td>\n",
       "    </tr>\n",
       "    <tr>\n",
       "      <th>HartfordSpringfield</th>\n",
       "      <td>2.229231</td>\n",
       "    </tr>\n",
       "    <tr>\n",
       "      <th>Houston</th>\n",
       "      <td>1.270769</td>\n",
       "    </tr>\n",
       "    <tr>\n",
       "      <th>Indianapolis</th>\n",
       "      <td>1.483136</td>\n",
       "    </tr>\n",
       "    <tr>\n",
       "      <th>Jacksonville</th>\n",
       "      <td>1.828284</td>\n",
       "    </tr>\n",
       "    <tr>\n",
       "      <th>LasVegas</th>\n",
       "      <td>1.748876</td>\n",
       "    </tr>\n",
       "    <tr>\n",
       "      <th>LosAngeles</th>\n",
       "      <td>1.455562</td>\n",
       "    </tr>\n",
       "    <tr>\n",
       "      <th>Louisville</th>\n",
       "      <td>1.468047</td>\n",
       "    </tr>\n",
       "    <tr>\n",
       "      <th>MiamiFtLauderdale</th>\n",
       "      <td>1.602663</td>\n",
       "    </tr>\n",
       "    <tr>\n",
       "      <th>Midsouth</th>\n",
       "      <td>1.602367</td>\n",
       "    </tr>\n",
       "    <tr>\n",
       "      <th>Nashville</th>\n",
       "      <td>1.411302</td>\n",
       "    </tr>\n",
       "    <tr>\n",
       "      <th>NewOrleansMobile</th>\n",
       "      <td>1.524320</td>\n",
       "    </tr>\n",
       "    <tr>\n",
       "      <th>NewYork</th>\n",
       "      <td>2.053018</td>\n",
       "    </tr>\n",
       "    <tr>\n",
       "      <th>Northeast</th>\n",
       "      <td>1.859408</td>\n",
       "    </tr>\n",
       "    <tr>\n",
       "      <th>NorthernNewEngland</th>\n",
       "      <td>1.694556</td>\n",
       "    </tr>\n",
       "    <tr>\n",
       "      <th>Orlando</th>\n",
       "      <td>1.797988</td>\n",
       "    </tr>\n",
       "    <tr>\n",
       "      <th>Philadelphia</th>\n",
       "      <td>1.867929</td>\n",
       "    </tr>\n",
       "    <tr>\n",
       "      <th>PhoenixTucson</th>\n",
       "      <td>1.720651</td>\n",
       "    </tr>\n",
       "    <tr>\n",
       "      <th>Pittsburgh</th>\n",
       "      <td>1.477988</td>\n",
       "    </tr>\n",
       "    <tr>\n",
       "      <th>Plains</th>\n",
       "      <td>1.707515</td>\n",
       "    </tr>\n",
       "    <tr>\n",
       "      <th>Portland</th>\n",
       "      <td>1.588935</td>\n",
       "    </tr>\n",
       "    <tr>\n",
       "      <th>RaleighGreensboro</th>\n",
       "      <td>1.883136</td>\n",
       "    </tr>\n",
       "    <tr>\n",
       "      <th>RichmondNorfolk</th>\n",
       "      <td>1.462840</td>\n",
       "    </tr>\n",
       "    <tr>\n",
       "      <th>Roanoke</th>\n",
       "      <td>1.399822</td>\n",
       "    </tr>\n",
       "    <tr>\n",
       "      <th>Sacramento</th>\n",
       "      <td>1.969172</td>\n",
       "    </tr>\n",
       "    <tr>\n",
       "      <th>SanDiego</th>\n",
       "      <td>1.734852</td>\n",
       "    </tr>\n",
       "    <tr>\n",
       "      <th>SanFrancisco</th>\n",
       "      <td>2.211243</td>\n",
       "    </tr>\n",
       "    <tr>\n",
       "      <th>Seattle</th>\n",
       "      <td>1.715385</td>\n",
       "    </tr>\n",
       "    <tr>\n",
       "      <th>SouthCarolina</th>\n",
       "      <td>1.660355</td>\n",
       "    </tr>\n",
       "    <tr>\n",
       "      <th>SouthCentral</th>\n",
       "      <td>1.333077</td>\n",
       "    </tr>\n",
       "    <tr>\n",
       "      <th>Southeast</th>\n",
       "      <td>1.633018</td>\n",
       "    </tr>\n",
       "    <tr>\n",
       "      <th>Spokane</th>\n",
       "      <td>1.775207</td>\n",
       "    </tr>\n",
       "    <tr>\n",
       "      <th>StLouis</th>\n",
       "      <td>1.675503</td>\n",
       "    </tr>\n",
       "    <tr>\n",
       "      <th>Syracuse</th>\n",
       "      <td>1.653728</td>\n",
       "    </tr>\n",
       "    <tr>\n",
       "      <th>Tampa</th>\n",
       "      <td>1.616095</td>\n",
       "    </tr>\n",
       "    <tr>\n",
       "      <th>TotalUS</th>\n",
       "      <td>1.546036</td>\n",
       "    </tr>\n",
       "    <tr>\n",
       "      <th>West</th>\n",
       "      <td>1.559349</td>\n",
       "    </tr>\n",
       "    <tr>\n",
       "      <th>WestTexNewMexico</th>\n",
       "      <td>1.688855</td>\n",
       "    </tr>\n",
       "  </tbody>\n",
       "</table>\n",
       "</div>"
      ],
      "text/plain": [
       "                     AveragePrice\n",
       "region                           \n",
       "Albany                   1.773314\n",
       "Atlanta                  1.607101\n",
       "BaltimoreWashington      1.724260\n",
       "Boise                    1.620237\n",
       "Boston                   1.757396\n",
       "BuffaloRochester         1.651361\n",
       "California               1.685207\n",
       "Charlotte                1.936982\n",
       "Chicago                  1.744201\n",
       "CincinnatiDayton         1.402899\n",
       "Columbus                 1.439290\n",
       "DallasFtWorth            1.324734\n",
       "Denver                   1.363195\n",
       "Detroit                  1.428225\n",
       "GrandRapids              1.684970\n",
       "GreatLakes               1.495207\n",
       "HarrisburgScranton       1.767751\n",
       "HartfordSpringfield      2.229231\n",
       "Houston                  1.270769\n",
       "Indianapolis             1.483136\n",
       "Jacksonville             1.828284\n",
       "LasVegas                 1.748876\n",
       "LosAngeles               1.455562\n",
       "Louisville               1.468047\n",
       "MiamiFtLauderdale        1.602663\n",
       "Midsouth                 1.602367\n",
       "Nashville                1.411302\n",
       "NewOrleansMobile         1.524320\n",
       "NewYork                  2.053018\n",
       "Northeast                1.859408\n",
       "NorthernNewEngland       1.694556\n",
       "Orlando                  1.797988\n",
       "Philadelphia             1.867929\n",
       "PhoenixTucson            1.720651\n",
       "Pittsburgh               1.477988\n",
       "Plains                   1.707515\n",
       "Portland                 1.588935\n",
       "RaleighGreensboro        1.883136\n",
       "RichmondNorfolk          1.462840\n",
       "Roanoke                  1.399822\n",
       "Sacramento               1.969172\n",
       "SanDiego                 1.734852\n",
       "SanFrancisco             2.211243\n",
       "Seattle                  1.715385\n",
       "SouthCarolina            1.660355\n",
       "SouthCentral             1.333077\n",
       "Southeast                1.633018\n",
       "Spokane                  1.775207\n",
       "StLouis                  1.675503\n",
       "Syracuse                 1.653728\n",
       "Tampa                    1.616095\n",
       "TotalUS                  1.546036\n",
       "West                     1.559349\n",
       "WestTexNewMexico         1.688855"
      ]
     },
     "execution_count": 36,
     "metadata": {},
     "output_type": "execute_result"
    }
   ],
   "source": [
    "# Question 2: What is the average organic avocado price for all regions?\n",
    "df_q2 = data.groupby(by=[\"region\"])[\"AveragePrice\", \"region\"].mean()\n",
    "df_q2"
   ]
  },
  {
   "cell_type": "code",
   "execution_count": 37,
   "id": "c721a895-3dd1-4bc6-9eec-342930d264bc",
   "metadata": {},
   "outputs": [],
   "source": [
    "# the result shows all regions and what their average price is for organic avocado in the period 2015-2018."
   ]
  },
  {
   "cell_type": "code",
   "execution_count": 38,
   "id": "035b0012-319a-4c5b-9f10-267c02540ad4",
   "metadata": {},
   "outputs": [
    {
     "name": "stderr",
     "output_type": "stream",
     "text": [
      "/var/folders/xj/qm67gxf118j1hry5jjcn94540000gn/T/ipykernel_53839/3180141337.py:2: FutureWarning: Indexing with multiple keys (implicitly converted to a tuple of keys) will be deprecated, use a list instead.\n",
      "  df_q3 = data.groupby(by=\"year\")[\"AveragePrice\", \"region\"].mean()\n"
     ]
    },
    {
     "data": {
      "text/html": [
       "<div>\n",
       "<style scoped>\n",
       "    .dataframe tbody tr th:only-of-type {\n",
       "        vertical-align: middle;\n",
       "    }\n",
       "\n",
       "    .dataframe tbody tr th {\n",
       "        vertical-align: top;\n",
       "    }\n",
       "\n",
       "    .dataframe thead th {\n",
       "        text-align: right;\n",
       "    }\n",
       "</style>\n",
       "<table border=\"1\" class=\"dataframe\">\n",
       "  <thead>\n",
       "    <tr style=\"text-align: right;\">\n",
       "      <th></th>\n",
       "      <th>AveragePrice</th>\n",
       "    </tr>\n",
       "    <tr>\n",
       "      <th>year</th>\n",
       "      <th></th>\n",
       "    </tr>\n",
       "  </thead>\n",
       "  <tbody>\n",
       "    <tr>\n",
       "      <th>2015</th>\n",
       "      <td>1.673324</td>\n",
       "    </tr>\n",
       "    <tr>\n",
       "      <th>2016</th>\n",
       "      <td>1.571684</td>\n",
       "    </tr>\n",
       "    <tr>\n",
       "      <th>2017</th>\n",
       "      <td>1.735521</td>\n",
       "    </tr>\n",
       "    <tr>\n",
       "      <th>2018</th>\n",
       "      <td>1.567176</td>\n",
       "    </tr>\n",
       "  </tbody>\n",
       "</table>\n",
       "</div>"
      ],
      "text/plain": [
       "      AveragePrice\n",
       "year              \n",
       "2015      1.673324\n",
       "2016      1.571684\n",
       "2017      1.735521\n",
       "2018      1.567176"
      ]
     },
     "execution_count": 38,
     "metadata": {},
     "output_type": "execute_result"
    }
   ],
   "source": [
    "# Question 3: What is the organic average avocado price for each year (2015-2018)\n",
    "df_q3 = data.groupby(by=\"year\")[\"AveragePrice\", \"region\"].mean()\n",
    "df_q3"
   ]
  },
  {
   "cell_type": "code",
   "execution_count": 39,
   "id": "9ae67e9e-b899-4471-b732-d0f06d58a773",
   "metadata": {},
   "outputs": [],
   "source": [
    "# the result shows the average price of organic avocados for all regions per year in the period 2015-2018."
   ]
  },
  {
   "cell_type": "markdown",
   "id": "b143344f-6725-4f1f-a799-78f367576abd",
   "metadata": {},
   "source": [
    "## Understanding the data graphically"
   ]
  },
  {
   "cell_type": "markdown",
   "id": "4f2ca99c-3dc8-460d-97eb-a47838629fb0",
   "metadata": {},
   "source": [
    "### Histograms"
   ]
  },
  {
   "cell_type": "code",
   "execution_count": 40,
   "id": "1dfe52b2-5a94-4b30-a714-1b5cb73ed740",
   "metadata": {},
   "outputs": [
    {
     "data": {
      "text/plain": [
       "<AxesSubplot:>"
      ]
     },
     "execution_count": 40,
     "metadata": {},
     "output_type": "execute_result"
    },
    {
     "data": {
      "image/png": "[encoded data removed]",
      "text/plain": [
       "<Figure size 432x288 with 1 Axes>"
      ]
     },
     "metadata": {
      "needs_background": "light"
     },
     "output_type": "display_data"
    }
   ],
   "source": [
    "data[\"AveragePrice\"].hist(bins=18)"
   ]
  },
  {
   "cell_type": "code",
   "execution_count": 41,
   "id": "4c93a8e7-542d-4b9a-adff-5f6dbbed9bb2",
   "metadata": {},
   "outputs": [
    {
     "name": "stderr",
     "output_type": "stream",
     "text": [
      "/var/folders/xj/qm67gxf118j1hry5jjcn94540000gn/T/ipykernel_53839/3908968994.py:1: FutureWarning: Indexing with multiple keys (implicitly converted to a tuple of keys) will be deprecated, use a list instead.\n",
      "  df_q3 = data.groupby(by=\"year\")[\"AveragePrice\", \"region\"].mean()\n"
     ]
    },
    {
     "data": {
      "image/png": "[encoded data removed]",
      "text/plain": [
       "<Figure size 432x288 with 1 Axes>"
      ]
     },
     "metadata": {
      "needs_background": "light"
     },
     "output_type": "display_data"
    }
   ],
   "source": [
    "df_q3 = data.groupby(by=\"year\")[\"AveragePrice\", \"region\"].mean()\n",
    "df_q3.unstack().plot.bar(stacked=True)\n",
    "\n",
    "plt.title(\"Average organic avocado price per year\")\n",
    "plt.show()\n",
    "\n",
    "# this plot shows the average organic avocado price per year"
   ]
  },
  {
   "cell_type": "markdown",
   "id": "c36f7374-018b-431c-a3da-918f1aad4516",
   "metadata": {},
   "source": [
    "### Box plots"
   ]
  },
  {
   "cell_type": "code",
   "execution_count": 42,
   "id": "e706ef93-213a-4385-9653-6d107e287021",
   "metadata": {},
   "outputs": [
    {
     "data": {
      "image/png": "[encoded data removed]",
      "text/plain": [
       "<Figure size 432x288 with 1 Axes>"
      ]
     },
     "metadata": {
      "needs_background": "light"
     },
     "output_type": "display_data"
    }
   ],
   "source": [
    "# Useful to detect outliers in the dataset\n",
    "plt.boxplot(data[\"AveragePrice\"])\n",
    "plt.show()"
   ]
  },
  {
   "cell_type": "markdown",
   "id": "14b0c59d-f5e0-481c-8f55-f7e4e1dd422d",
   "metadata": {},
   "source": [
    "### Probability density function"
   ]
  },
  {
   "cell_type": "code",
   "execution_count": 43,
   "id": "adc08f5e-7a8b-423d-825e-b5c4f5bda59f",
   "metadata": {},
   "outputs": [
    {
     "data": {
      "text/plain": [
       "<AxesSubplot:ylabel='Density'>"
      ]
     },
     "execution_count": 43,
     "metadata": {},
     "output_type": "execute_result"
    },
    {
     "data": {
      "image/png": "[encoded data removed]",
      "text/plain": [
       "<Figure size 432x288 with 1 Axes>"
      ]
     },
     "metadata": {
      "needs_background": "light"
     },
     "output_type": "display_data"
    }
   ],
   "source": [
    "# Probability density function between year and average price\n",
    "df_pivot = data.pivot(columns=\"year\", values=\"AveragePrice\")\n",
    "df_pivot.plot.kde(legend=True)"
   ]
  },
  {
   "cell_type": "code",
   "execution_count": 44,
   "id": "eae3f9f6-42a6-40c7-aa26-e4bdfee704a2",
   "metadata": {},
   "outputs": [
    {
     "name": "stderr",
     "output_type": "stream",
     "text": [
      "/Users/konstantinoskalaitzidis/opt/anaconda3/lib/python3.9/site-packages/seaborn/distributions.py:2619: FutureWarning: `distplot` is a deprecated function and will be removed in a future version. Please adapt your code to use either `displot` (a figure-level function with similar flexibility) or `histplot` (an axes-level function for histograms).\n",
      "  warnings.warn(msg, FutureWarning)\n"
     ]
    },
    {
     "data": {
      "image/png": "[encoded data removed]",
      "text/plain": [
       "<Figure size 864x360 with 1 Axes>"
      ]
     },
     "metadata": {
      "needs_background": "light"
     },
     "output_type": "display_data"
    }
   ],
   "source": [
    "# Using Seaborn to visualize the distribution of the average prices of organic avocado across all regions.\n",
    "plt.figure(figsize=(12,5))\n",
    "plt.title(\"Distribution Price\")\n",
    "ax = sns.distplot(data[\"AveragePrice\"], color = 'r')"
   ]
  },
  {
   "cell_type": "code",
   "execution_count": null,
   "id": "df0e48bb-a2ba-4660-8ad3-d5e714db2c7d",
   "metadata": {},
   "outputs": [],
   "source": []
  }
 ],
 "metadata": {
  "kernelspec": {
   "display_name": "Python 3 (ipykernel)",
   "language": "python",
   "name": "python3"
  },
  "language_info": {
   "codemirror_mode": {
    "name": "ipython",
    "version": 3
   },
   "file_extension": ".py",
   "mimetype": "text/x-python",
   "name": "python",
   "nbconvert_exporter": "python",
   "pygments_lexer": "ipython3",
   "version": "3.9.7"
  }
 },
 "nbformat": 4,
 "nbformat_minor": 5
}
